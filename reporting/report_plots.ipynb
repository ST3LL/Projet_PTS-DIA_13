{
  "nbformat": 4,
  "nbformat_minor": 0,
  "metadata": {
    "colab": {
      "name": "report_plots.ipynb",
      "provenance": []
    },
    "kernelspec": {
      "name": "python3",
      "display_name": "Python 3"
    },
    "language_info": {
      "name": "python"
    }
  },
  "cells": [
    {
      "cell_type": "code",
      "source": [
        "import pandas as pd\n",
        "import matplotlib.pyplot as plt\n",
        "import numpy as np\n",
        "from google.colab import files"
      ],
      "metadata": {
        "id": "mR1OY3PNDh04"
      },
      "execution_count": null,
      "outputs": []
    },
    {
      "cell_type": "code",
      "execution_count": null,
      "metadata": {
        "id": "HH-dGjWcDTxo"
      },
      "outputs": [],
      "source": [
        "df_pts = pd.read_csv('./output/comparaison_table.csv', index_col='Unnamed: 0')"
      ]
    },
    {
      "cell_type": "code",
      "source": [
        "df_pts.sort_values(['dimension', 'difficulty'], ascending=[True, True], inplace=True)\n",
        "df_pts"
      ],
      "metadata": {
        "id": "YFh-xOQTNX7e"
      },
      "execution_count": null,
      "outputs": []
    },
    {
      "cell_type": "code",
      "source": [
        "l_model = df_pts['model'].unique()\n",
        "l_dim = df_pts['dimension'].unique()"
      ],
      "metadata": {
        "id": "c28j7sYSEE2U"
      },
      "execution_count": null,
      "outputs": []
    },
    {
      "cell_type": "code",
      "source": [
        "def plot_big(l_col, log = None):\n",
        "  log = log if log else [False] * len(l_col)\n",
        "  fig, axs = plt.subplots(len(l_col), len(l_dim), figsize=(len(l_col)*6, len(l_dim)*5))\n",
        "  for n, col in enumerate(l_col):\n",
        "    for i, dim in enumerate(l_dim):\n",
        "      axs[n, i].set_title(f'dimension {dim}, {col}' + f' - scaled'*bool(log[n]))\n",
        "      if log[n]:\n",
        "        axs[n, i].set_yscale('log')\n",
        "      for model in l_model:\n",
        "        df = df_pts[(df_pts['dimension'] == dim) & (df_pts['model'] == model)][col]\n",
        "        axs[n, i].plot(np.arange(df.shape[0]), df, label=model)\n",
        "  axs[-1, -1].legend()\n",
        "\n",
        "  plt.tight_layout()"
      ],
      "metadata": {
        "id": "3WQvvfkGPs02"
      },
      "execution_count": null,
      "outputs": []
    },
    {
      "cell_type": "code",
      "source": [
        "m_col = [\n",
        "         [f'average {col}', f'average {col} variance', f'variance of {col} variance batches']\n",
        "         for col in ['time', 'accuracy']\n",
        "]"
      ],
      "metadata": {
        "id": "ZFKB6ju-EU3O"
      },
      "execution_count": null,
      "outputs": []
    },
    {
      "cell_type": "code",
      "source": [
        "plot_big(m_col[0], [1, 1, 1])\n",
        "plt.show()\n",
        "plt.savefig('./output/time.png')"
      ],
      "metadata": {
        "id": "Ybw1th16RiZa"
      },
      "execution_count": null,
      "outputs": []
    },
    {
      "cell_type": "code",
      "source": [
        "plot_big(m_col[1], [1, 1, 1])\n",
        "plt.show()\n",
        "plt.savefig('./output/accuracy.png')"
      ],
      "metadata": {
        "id": "bkkei7xkSMvR"
      },
      "execution_count": null,
      "outputs": []
    }
  ]
}